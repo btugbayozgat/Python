{
  "nbformat": 4,
  "nbformat_minor": 0,
  "metadata": {
    "colab": {
      "provenance": []
    },
    "kernelspec": {
      "name": "python3",
      "display_name": "Python 3"
    },
    "language_info": {
      "name": "python"
    }
  },
  "cells": [
    {
      "cell_type": "code",
      "execution_count": 4,
      "metadata": {
        "colab": {
          "base_uri": "https://localhost:8080/"
        },
        "id": "_ZrBK8feTpOk",
        "outputId": "1450c1bf-32d6-40a4-e701-ad2b7e8ec35d"
      },
      "outputs": [
        {
          "output_type": "stream",
          "name": "stdout",
          "text": [
            "Bir sayı girin: 12\n",
            "12 5'e veya 7'ye bölünemez.\n"
          ]
        }
      ],
      "source": [
        "sayi = int(input(\"Bir sayı girin: \"))\n",
        "\n",
        "if sayi % 7 == 0:\n",
        "    print(f\"{sayi} 7'ye bölünebilir.\")\n",
        "elif sayi % 5 == 0:\n",
        "    print(f\"{sayi} 5'e bölünebilir.\")\n",
        "else:\n",
        "    print(f\"{sayi} 5'e veya 7'ye bölünemez.\")"
      ]
    },
    {
      "cell_type": "code",
      "source": [
        "import random\n",
        "\n",
        "hedef_sayi = random.randint(1, 9)  # 1 ile 9 arasında rastgele bir sayı seç\n",
        "\n",
        "tahmin = int(input(\"1 ile 9 arasında bir sayı tahmin edin: \"))\n",
        "\n",
        "if tahmin == hedef_sayi:\n",
        "    print(\"İyi Tahmin!\")\n",
        "else:\n",
        "    print(f\"Yanlış Tahmin. Hedef sayı {hedef_sayi} idi.\")\n",
        ""
      ],
      "metadata": {
        "colab": {
          "base_uri": "https://localhost:8080/"
        },
        "id": "Ox3DkFTxULMR",
        "outputId": "4fd5aa87-15c1-407d-9e8c-f7af41a1c6c6"
      },
      "execution_count": 19,
      "outputs": [
        {
          "output_type": "stream",
          "name": "stdout",
          "text": [
            "1 ile 9 arasında bir sayı tahmin edin: 2\n",
            "İyi Tahmin!\n"
          ]
        }
      ]
    },
    {
      "cell_type": "code",
      "source": [
        "kelime = input(\"Bir kelime girin: \")\n",
        "\n",
        "if len(kelime) >= 2 and kelime[0] == kelime[-1]:\n",
        "    print(f\"{kelime} kelimesi başta ve sonda aynı harf içerir.\")\n",
        "else:\n",
        "    print(f\"{kelime} kelimesi başta ve sonda aynı harf içermez.\")"
      ],
      "metadata": {
        "colab": {
          "base_uri": "https://localhost:8080/"
        },
        "id": "ZLilQTb-VWyq",
        "outputId": "df401753-2798-46e9-8351-dac79b96e709"
      },
      "execution_count": 22,
      "outputs": [
        {
          "output_type": "stream",
          "name": "stdout",
          "text": [
            "Bir kelime girin: kötek\n",
            "kötek kelimesi başta ve sonda aynı harf içerir.\n"
          ]
        }
      ]
    },
    {
      "cell_type": "code",
      "source": [
        "boy = float(input(\"Boyunuzu (metre cinsinden) girin: \"))\n",
        "kilogram = float(input(\"Kilonuzu (kilogram cinsinden) girin: \"))\n",
        "\n",
        "bmi = kilogram / (boy ** 2)\n",
        "\n",
        "if bmi >= 30:\n",
        "    print(f\"BMI: {bmi:.2f} - Obez\")\n",
        "elif 25 <= bmi < 30:\n",
        "    print(f\"BMI: {bmi:.2f} - Aşırı Kilolu\")\n",
        "elif 20 <= bmi < 25:\n",
        "    print(f\"BMI: {bmi:.2f} - Normal\")\n",
        "else:\n",
        "    print(f\"BMI: {bmi:.2f} - Zayıf\")"
      ],
      "metadata": {
        "colab": {
          "base_uri": "https://localhost:8080/"
        },
        "id": "ZYXH1FI0V3sS",
        "outputId": "8ff2fc44-aa42-4123-ae1f-e720cb6e9869"
      },
      "execution_count": 26,
      "outputs": [
        {
          "output_type": "stream",
          "name": "stdout",
          "text": [
            "Boyunuzu (metre cinsinden) girin: 1.93\n",
            "Kilonuzu (kilogram cinsinden) girin: 90\n",
            "BMI: 24.16 - Normal\n"
          ]
        }
      ]
    }
  ]
}
