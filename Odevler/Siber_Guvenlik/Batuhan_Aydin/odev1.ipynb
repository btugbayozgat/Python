{
  "nbformat": 4,
  "nbformat_minor": 0,
  "metadata": {
    "colab": {
      "provenance": []
    },
    "kernelspec": {
      "name": "python3",
      "display_name": "Python 3"
    },
    "language_info": {
      "name": "python"
    }
  },
  "cells": [
    {
      "cell_type": "code",
      "execution_count": 1,
      "metadata": {
        "colab": {
          "base_uri": "https://localhost:8080/"
        },
        "id": "v84kXqhVfOQI",
        "outputId": "e14ff48c-ebc8-4350-d3be-b4e482ecaacf"
      },
      "outputs": [
        {
          "output_type": "stream",
          "name": "stdout",
          "text": [
            "400 Kelvin, 126.85 Celsius derecesine eşittir.\n"
          ]
        }
      ],
      "source": [
        "kelvin = 400\n",
        "celsius = kelvin - 273.15\n",
        "print(f\"{kelvin} Kelvin, {celsius:.2f} Celsius derecesine eşittir.\")"
      ]
    },
    {
      "cell_type": "code",
      "source": [
        "pi = 3.14\n",
        "yaricap = 1.5\n",
        "\n",
        "alan = pi * (yaricap ** 2)\n",
        "cevre = 2 * pi * yaricap\n",
        "\n",
        "print(f\"Dairenin Alanı: {alan} cm²\")\n",
        "print(f\"Dairenin Çevresi: {cevre} cm\")"
      ],
      "metadata": {
        "colab": {
          "base_uri": "https://localhost:8080/"
        },
        "id": "M66Ihxtvf6uR",
        "outputId": "9dbe3584-5dc4-44e7-f2b2-65d5d9f663cf"
      },
      "execution_count": 3,
      "outputs": [
        {
          "output_type": "stream",
          "name": "stdout",
          "text": [
            "Dairenin Alanı: 7.065 cm²\n",
            "Dairenin Çevresi: 9.42 cm\n"
          ]
        }
      ]
    },
    {
      "cell_type": "code",
      "source": [
        "sayi = int(input(\"Dört basamaklı bir sayı girin: \"))\n",
        "\n",
        "if sayi < 1000 or sayi > 9999:\n",
        "    print(\"Lütfen dört basamaklı bir sayı girin.\")\n",
        "else:\n",
        "    ilk_basamak = sayi // 1000\n",
        "    son_basamak = sayi % 10\n",
        "    toplam = ilk_basamak + son_basamak\n",
        "    print(f\"İlk basamak ({ilk_basamak}) ve son basamak ({son_basamak}) toplamı: {toplam}\")"
      ],
      "metadata": {
        "colab": {
          "base_uri": "https://localhost:8080/"
        },
        "id": "lGy3wdxDgppn",
        "outputId": "bca3f7fb-f5b5-4a20-c422-b688855b5dff"
      },
      "execution_count": 6,
      "outputs": [
        {
          "output_type": "stream",
          "name": "stdout",
          "text": [
            "Dört basamaklı bir sayı girin: 3579\n",
            "İlk basamak (3) ve son basamak (9) toplamı: 12\n"
          ]
        }
      ]
    },
    {
      "cell_type": "code",
      "source": [
        "hiz = 110  # km/saat\n",
        "mesafe = 500  # km\n",
        "\n",
        "sure_saat = mesafe / hiz  # Saat cinsinden süre\n",
        "sure_dakika = sure_saat * 60  # Dakika cinsinden süre\n",
        "\n",
        "print(f\"Araba {mesafe} km yolu {sure_saat:.2f} saat ({sure_dakika:.2f} dakika) sürede gidecek.\")"
      ],
      "metadata": {
        "colab": {
          "base_uri": "https://localhost:8080/"
        },
        "id": "Y0USeZFhhfz1",
        "outputId": "371984ba-4bc1-492c-e253-65b2a5a2438d"
      },
      "execution_count": 7,
      "outputs": [
        {
          "output_type": "stream",
          "name": "stdout",
          "text": [
            "Araba 500 km yolu 4.55 saat (272.73 dakika) sürede gidecek.\n"
          ]
        }
      ]
    }
  ]
}
