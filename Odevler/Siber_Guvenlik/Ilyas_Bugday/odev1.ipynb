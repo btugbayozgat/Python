{
  "nbformat": 4,
  "nbformat_minor": 0,
  "metadata": {
    "colab": {
      "provenance": [],
      "toc_visible": true
    },
    "kernelspec": {
      "name": "python3",
      "display_name": "Python 3"
    },
    "language_info": {
      "name": "python"
    }
  },
  "cells": [
    {
      "cell_type": "code",
      "execution_count": null,
      "metadata": {
        "colab": {
          "base_uri": "https://localhost:8080/"
        },
        "id": "wWo0cJ1VySQl",
        "outputId": "a1a190ae-8703-48a3-ae66-4626d64350ea"
      },
      "outputs": [
        {
          "output_type": "stream",
          "name": "stdout",
          "text": [
            "Celciusa çevirmek istediğiniz Kelvin derecesini giriniz:100\n",
            "Celcius: 373\n"
          ]
        }
      ],
      "source": [
        "kelvin=int(input(\"Celciusa çevirmek istediğiniz Kelvin derecesini giriniz:\"))\n",
        "celcius=kelvin+273\n",
        "\n",
        "print(\"Celcius:\",celcius)"
      ]
    },
    {
      "cell_type": "code",
      "source": [
        "c=float(input(\"Dairenin yarı çapını giriniz:\"))\n",
        "alan=(3.14*(c*c))\n",
        "cevre=(2*3.14*c)\n",
        "print(\"Dairenin alanı:\",alan)\n",
        "print(\"Dairenin çevresi:\",cevre)"
      ],
      "metadata": {
        "colab": {
          "base_uri": "https://localhost:8080/"
        },
        "id": "Aq3-oSOmy8Uk",
        "outputId": "f1c53d80-12c1-41f4-fe59-ecc20fb1c1fe"
      },
      "execution_count": null,
      "outputs": [
        {
          "output_type": "stream",
          "name": "stdout",
          "text": [
            "Dairenin yarı çapını giriniz:1.5\n",
            "Dairenin alanı: 7.065\n",
            "Dairenin çevresi: 9.42\n"
          ]
        }
      ]
    },
    {
      "cell_type": "code",
      "source": [
        "sayi = int(input(print('4 Basamaklı bir sayi giriniz; ')))\n",
        "ilk = sayi // 1000\n",
        "son = sayi % 10\n",
        "\n",
        "toplam = ilk + son\n",
        "print('İlk basamak ve Son basamaktaki sayiların toplami: ' + str(int(toplam)))"
      ],
      "metadata": {
        "id": "V9UzvVAq1K3_",
        "colab": {
          "base_uri": "https://localhost:8080/"
        },
        "outputId": "c8b16ebd-93c9-4bcb-8eb0-fb8c1604704c"
      },
      "execution_count": null,
      "outputs": [
        {
          "output_type": "stream",
          "name": "stdout",
          "text": [
            "4 Basamaklı bir sayi giriniz; \n",
            "None1234\n",
            "İlk basamak ve Son basamaktaki sayiların toplami: 5\n"
          ]
        }
      ]
    },
    {
      "cell_type": "code",
      "source": [
        "hız = 110\n",
        "yol = 500\n",
        "sure = yol / hız\n",
        "\n",
        "print(f'Süre; {sure:}')"
      ],
      "metadata": {
        "colab": {
          "base_uri": "https://localhost:8080/"
        },
        "id": "LUXTjiVNb4Bx",
        "outputId": "4f6d3400-a9be-4011-919c-a732705da27c"
      },
      "execution_count": null,
      "outputs": [
        {
          "output_type": "stream",
          "name": "stdout",
          "text": [
            "Süre; 4.545454545454546\n"
          ]
        }
      ]
    }
  ]
}
