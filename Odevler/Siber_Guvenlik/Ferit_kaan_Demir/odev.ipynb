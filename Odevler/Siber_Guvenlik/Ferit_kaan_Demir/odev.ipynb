{
  "nbformat": 4,
  "nbformat_minor": 0,
  "metadata": {
    "colab": {
      "provenance": []
    },
    "kernelspec": {
      "name": "python3",
      "display_name": "Python 3"
    },
    "language_info": {
      "name": "python"
    }
  },
  "cells": [
    {
      "cell_type": "code",
      "execution_count": null,
      "metadata": {
        "id": "dfTo5vyFuVa9"
      },
      "outputs": [],
      "source": [
        "kelvin = float(input(\"Sıcaklık değerini Kelvin cinsinden girin: \"))\n",
        "celsius = kelvin - 273.15\n",
        "\n",
        "print(f\"{kelvin} Kelvin, {celsius:.2f} Celsius'a eşittir.\")"
      ]
    },
    {
      "cell_type": "code",
      "source": [
        "pi = 3.14\n",
        "yaricap = 1.5\n",
        "\n",
        "alan = pi * (yaricap ** 2)\n",
        "cevre = 2 * pi * yaricap\n",
        "\n",
        "print(f\"Dairenin Alanı: {alan:.2f} cm²\")\n",
        "print(f\"Dairenin Çevresi: {cevre:.2f} cm\")\n"
      ],
      "metadata": {
        "id": "BqeFZsnDuaPV"
      },
      "execution_count": null,
      "outputs": []
    },
    {
      "cell_type": "code",
      "source": [
        "sayi = int(input(\"Dört basamaklı bir sayı girin: \"))\n",
        "\n",
        "ilk_basamak = sayi // 1000\n",
        "son_basamak = sayi % 10\n",
        "\n",
        "toplam = ilk_basamak + son_basamak\n",
        "\n",
        "print(f\"İlk ve son basamağın toplamı: {toplam}\")\n"
      ],
      "metadata": {
        "id": "rwDn0Y-EuaWF"
      },
      "execution_count": null,
      "outputs": []
    },
    {
      "cell_type": "code",
      "source": [
        "hiz_kmh = 110\n",
        "mesafe_km = 500\n",
        "\n",
        "hiz_kmsaat = hiz_kmh\n",
        "mesafe_kmsaat = mesafe_km\n",
        "\n",
        "sure_saat = mesafe_kmsaat / hiz_kmsaat\n",
        "sure_saat_tam = int(sure_saat)  # Tam saat\n",
        "sure_dakika = (sure_saat - sure_saat_tam) * 60  # Dakika\n",
        "\n",
        "print(f\"Araba {mesafe_km} km'lik yolu {sure_saat_tam} saat {int(sure_dakika)} dakika içinde gidecektir.\")\n"
      ],
      "metadata": {
        "id": "mmR6y5sYuaaU"
      },
      "execution_count": null,
      "outputs": []
    }
  ]
}
