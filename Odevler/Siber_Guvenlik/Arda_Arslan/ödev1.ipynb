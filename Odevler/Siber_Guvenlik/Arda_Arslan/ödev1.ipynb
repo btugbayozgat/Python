{
  "nbformat": 4,
  "nbformat_minor": 0,
  "metadata": {
    "colab": {
      "provenance": []
    },
    "kernelspec": {
      "name": "python3",
      "display_name": "Python 3"
    },
    "language_info": {
      "name": "python"
    }
  },
  "cells": [
    {
      "cell_type": "code",
      "execution_count": 1,
      "metadata": {
        "colab": {
          "base_uri": "https://localhost:8080/"
        },
        "id": "vX33r-ar593J",
        "outputId": "d4ed3ecf-5b76-4d4b-d237-3429fc0965e9"
      },
      "outputs": [
        {
          "output_type": "stream",
          "name": "stdout",
          "text": [
            "Kelvin Derecesini Santigrat Derecesine Ceviren Algoritma!..\n",
            "\n",
            "\n",
            "Cevirmek Istediginiz Kelvin Derecesini Giriniz: 400\n",
            "400 Kelvin 127 Celcius Derecesine Esittir.\n"
          ]
        }
      ],
      "source": [
        "print(\"Kelvin Derecesini Santigrat Derecesine Ceviren Algoritma!..\\n\\n\")\n",
        "\n",
        "kelvin_derece=int(input(\"Cevirmek Istediginiz Kelvin Derecesini Giriniz: \"))\n",
        "\n",
        "santigrat= kelvin_derece - 273\n",
        "\n",
        "print(f\"{kelvin_derece:} Kelvin {santigrat:} Celcius Derecesine Esittir.\")"
      ]
    },
    {
      "cell_type": "code",
      "source": [
        "print(\"Daire Yaricapini ve Cevresini Hesaplayan Algoritma!..\")\n",
        "print(\"Not: Yaricaplari 'cm' Cinsinden Giriniz!!\\n\\n\")\n",
        "print(\"1 - Daire Cevre Hesaplama\")\n",
        "print(\"2 - Daire Alan Hesaplama\")\n",
        "islem_no=(int(input(\"Lutfen Yapmak Istediginiz İslemin Sayisini Giriniz: \")))\n",
        "pi=3.14\n",
        "\n",
        "\n",
        "if(islem_no==1):\n",
        "   cevre_yaricap = float(input(\"Dairenin Yaricapini Giriniz: \"))\n",
        "   daire_cevre= 2*pi*cevre_yaricap\n",
        "\n",
        "   print(f\"Yaricapi {cevre_yaricap} Olan Dairenin Cevresi: {daire_cevre:}\")\n",
        "\n",
        "\n",
        "if(islem_no==2):\n",
        "   alan_yaricap= float(input(\"Dairenin Yaricapini Giriniz: \"))\n",
        "   daire_alan = pi*(alan_yaricap*alan_yaricap)\n",
        "\n",
        "   print(f\"Yaricapi {alan_yaricap} Olan Dairenin Alani: {daire_alan}\")"
      ],
      "metadata": {
        "colab": {
          "base_uri": "https://localhost:8080/"
        },
        "id": "6G7RVr5P7A_g",
        "outputId": "1124c5b2-56fd-4936-cec1-7c85674beb12"
      },
      "execution_count": 3,
      "outputs": [
        {
          "output_type": "stream",
          "name": "stdout",
          "text": [
            "Daire Yaricapini ve Cevresini Hesaplayan Algoritma!..\n",
            "Not: Yaricaplari 'cm' Cinsinden Giriniz!!\n",
            "\n",
            "\n",
            "1 - Daire Cevre Hesaplama\n",
            "2 - Daire Alan Hesaplama\n",
            "Lutfen Yapmak Istediginiz İslemin Sayisini Giriniz: 2\n",
            "Dairenin Yaricapini Giriniz: 1.5\n",
            "Yaricapi 1.5 Olan Dairenin Alani: 7.065\n"
          ]
        }
      ]
    },
    {
      "cell_type": "code",
      "source": [
        "print(\"Sayilarin Basamaklarini Toplayan Algoritma!..\\n\\n\")\n",
        "\n",
        "while 1:\n",
        "    tempsayi=(input(\"Dort Basamakli Bir Sayi Giriniz: \"))\n",
        "    sayi=int(tempsayi)\n",
        "    if(sayi>999 and sayi<10000):\n",
        "     break;\n",
        "\n",
        "\n",
        "\n",
        "tempsayi2 = str(sayi)\n",
        "tempsayi2_1 = tempsayi[0]\n",
        "tempsayi2_2 = tempsayi[3]\n",
        "sayi_total = int(tempsayi2_1) + int(tempsayi2_2)\n",
        "\n",
        "print(f\"İlk Basamak Degeri:{tempsayi2_1:}, Son Basamak Degeri {tempsayi2_2:} \")\n",
        "print(\"İlk ve Son Basamaklarin Toplaminin Sonucu:\", sayi_total)"
      ],
      "metadata": {
        "colab": {
          "base_uri": "https://localhost:8080/"
        },
        "id": "jOXwqjLK7BC4",
        "outputId": "2c85e282-d697-4137-bfcf-8d11093851d3"
      },
      "execution_count": 4,
      "outputs": [
        {
          "output_type": "stream",
          "name": "stdout",
          "text": [
            "Sayilarin Basamaklarini Toplayan Algoritma!..\n",
            "\n",
            "\n",
            "Dort Basamakli Bir Sayi Giriniz: 1234\n",
            "İlk Basamak Degeri:1, Son Basamak Degeri 4 \n",
            "İlk ve Son Basamaklarin Toplaminin Sonucu: 5\n"
          ]
        }
      ]
    },
    {
      "cell_type": "code",
      "source": [
        "print(\"Verilen Hiza ve Mesafeye Göre Seyahatin Zamanini Hesaplayan Algoritma!..\\n\\n\")\n",
        "\n",
        "toplam_mesafe = int(input(\"Toplam Yol Alacaginiz Mesafeyi Giriniz: \"))\n",
        "\n",
        "araba_hiz = int(input(\"Arabanizin Hizini Giriniz: \"))\n",
        "\n",
        "temp1 = float(toplam_mesafe / araba_hiz)  * 60\n",
        "temp2 = float(toplam_mesafe / araba_hiz)\n",
        "\n",
        "print(f\"Araba {araba_hiz:} hiz ile {toplam_mesafe:} km'lik yolu {temp1:.2f} dakikada veya {temp2:.2f} saatte yolu gider. \")"
      ],
      "metadata": {
        "colab": {
          "base_uri": "https://localhost:8080/"
        },
        "id": "sjUSYY7u7Y6_",
        "outputId": "c6ef17b6-7524-4600-cee3-e05b055db7aa"
      },
      "execution_count": 5,
      "outputs": [
        {
          "output_type": "stream",
          "name": "stdout",
          "text": [
            "Verilen Hiza ve Mesafeye Göre Seyahatin Zamanini Hesaplayan Algoritma!..\n",
            "\n",
            "\n",
            "Toplam Yol Alacaginiz Mesafeyi Giriniz: 500\n",
            "Arabanizin Hizini Giriniz: 110\n",
            "Araba 110 hiz ile 500 km'lik yolu 272.73 dakikada veya 4.55 saatte yolu gider. \n"
          ]
        }
      ]
    }
  ]
}
