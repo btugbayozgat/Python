{
  "nbformat": 4,
  "nbformat_minor": 0,
  "metadata": {
    "colab": {
      "provenance": []
    },
    "kernelspec": {
      "name": "python3",
      "display_name": "Python 3"
    },
    "language_info": {
      "name": "python"
    }
  },
  "cells": [
    {
      "cell_type": "code",
      "execution_count": null,
      "metadata": {
        "colab": {
          "base_uri": "https://localhost:8080/"
        },
        "id": "ASWOZv5T9pLE",
        "outputId": "24f72869-6268-4d59-cced-b5ab0a918cf6"
      },
      "outputs": [
        {
          "output_type": "stream",
          "name": "stdout",
          "text": [
            "Lutfen Bir Sayi Giriniz: 42\n",
            "42 sayisi 7'ye tam bolunmektedir.\n"
          ]
        }
      ],
      "source": [
        "sayi= int(input(\"Lutfen Bir Sayi Giriniz: \"))\n",
        "\n",
        "if(sayi%5==0):\n",
        "    print(f\"{sayi} sayisi 5'e tam bolunmektedir.\")\n",
        "\n",
        "elif(sayi%7==0):\n",
        "    print(f\"{sayi} sayisi 7'ye tam bolunmektedir.\")\n",
        "\n",
        "else:\n",
        "    print(f\"{sayi} sayisi 5'e ve 7'ye tam bolunmuyor.\")"
      ]
    },
    {
      "cell_type": "code",
      "source": [
        "import random\n",
        "random_sayi = random.randint(1,9)\n",
        "\n",
        "tahmin_sayi = int(input(\"Lutfen Bir Sayi Giriniz: \"))\n",
        "print(f\"Girdiginiz sayi {tahmin_sayi}, tutulan sayi {random_sayi}.\")\n",
        "if(tahmin_sayi==random_sayi):\n",
        "    print(\"Tahmininiz Basarili!...\")\n",
        "\n",
        "else:\n",
        "    print(\"Tahmininiz Yanlis Tekrar Deneyiniz!...\")"
      ],
      "metadata": {
        "id": "Xl2QGFYp9826",
        "colab": {
          "base_uri": "https://localhost:8080/"
        },
        "outputId": "5dd2b360-bc30-4fca-d95a-87ce22242590"
      },
      "execution_count": null,
      "outputs": [
        {
          "output_type": "stream",
          "name": "stdout",
          "text": [
            "Lutfen Bir Sayi Giriniz: 4\n",
            "Girdiginiz sayi 4, tutulan sayi 4.\n",
            "Tahmininiz Basarili!...\n"
          ]
        }
      ]
    },
    {
      "cell_type": "code",
      "source": [
        "print(\"Kelimenin Ilk ve Son Harfini Kontrol Eden Algoritma!...\\n\\n\")\n",
        "\n",
        "text= input(\"Lutfen Herhangi Bir Kelime Giriniz: \")\n",
        "\n",
        "if(text[0]==text[-1]):\n",
        "    print(f\"{text} kelimesinin ilk ve son harfi birbiri ile aynidir!...\")\n",
        "else:\n",
        "    print(f\"[{text}] kelimesinin ilk ve son harfi birbiri ile ayni degildir!...\")"
      ],
      "metadata": {
        "id": "kYf45E4tBOLk",
        "colab": {
          "base_uri": "https://localhost:8080/"
        },
        "outputId": "10b09f6e-44b9-412e-e5f0-8e10fb2f7a65"
      },
      "execution_count": null,
      "outputs": [
        {
          "output_type": "stream",
          "name": "stdout",
          "text": [
            "Kelimenin Ilk ve Son Harfini Kontrol Eden Algoritma!...\n",
            "\n",
            "\n",
            "Lutfen Herhangi Bir Kelime Giriniz: arda\n",
            "arda kelimesinin ilk ve son harfi birbiri ile aynidir!...\n"
          ]
        }
      ]
    },
    {
      "cell_type": "code",
      "source": [
        "print(\"Not!: Lutfen Boyunuzu Float Degerde Giriniz!\")\n",
        "print(\"Ornek Olarak 170 cm yerine 1.7 cm Seklinde Girilmelidir...\\n\\n\\n\")\n",
        "\n",
        "boy = float(input(\"Boyunuzu Giriniz: \"))\n",
        "kilo = int(input(\"Kilonuzu Giriniz: \"))\n",
        "\n",
        "temp_k_endeks = kilo/(boy*boy)\n",
        "k_endeks = round(temp_k_endeks)\n",
        "\n",
        "\n",
        "if(k_endeks>=30):\n",
        "    print(f\"Vucut Kitle Endeksiniz: {k_endeks} - Obezsiniz!...\")\n",
        "\n",
        "\n",
        "elif(25<=k_endeks<30):\n",
        "    print(f\"Vucut Kitle Endeksiniz: {k_endeks} - Asiri Kilolusunuz!...\")\n",
        "\n",
        "\n",
        "elif(20<=k_endeks<25):\n",
        "    print(f\"Vucut Kitle Endeksiniz: {k_endeks} - Normal Kilodasiniz!...\")\n",
        "\n",
        "\n",
        "\n",
        "elif(k_endeks<20):\n",
        "    print(f\"Vucut Kitle Endeksiniz: {k_endeks} - Zayifsiniz!...\")"
      ],
      "metadata": {
        "id": "jkl2q5j8KgC7",
        "colab": {
          "base_uri": "https://localhost:8080/"
        },
        "outputId": "12720658-70c2-43a6-85fd-9528fe056f5d"
      },
      "execution_count": null,
      "outputs": [
        {
          "output_type": "stream",
          "name": "stdout",
          "text": [
            "Not!: Lutfen Boyunuzu Float Degerde Giriniz!\n",
            "Ornek Olarak 170 cm yerine 1.7 cm Seklinde Girilmelidir...\n",
            "\n",
            "\n",
            "\n",
            "Boyunuzu Giriniz: 1.75\n",
            "Kilonuzu Giriniz: 70\n",
            "Vucut Kitle Endeksiniz: 23 - Normal Kilodasiniz!...\n"
          ]
        }
      ]
    }
  ]
}
