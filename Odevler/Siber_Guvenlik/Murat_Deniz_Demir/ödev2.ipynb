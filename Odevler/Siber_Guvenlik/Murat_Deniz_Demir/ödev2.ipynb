{
  "nbformat": 4,
  "nbformat_minor": 0,
  "metadata": {
    "colab": {
      "provenance": []
    },
    "kernelspec": {
      "name": "python3",
      "display_name": "Python 3"
    },
    "language_info": {
      "name": "python"
    }
  },
  "cells": [
    {
      "cell_type": "code",
      "execution_count": null,
      "metadata": {
        "colab": {
          "base_uri": "https://localhost:8080/"
        },
        "id": "_Ca8S8ggh6B2",
        "outputId": "5a9b5f5c-c29d-4338-82ab-e6f5e3a97a31"
      },
      "outputs": [
        {
          "output_type": "stream",
          "name": "stdout",
          "text": [
            "Bir sayı girin: 35\n",
            "35, 5'e bölünebilir.\n",
            "35, 7'ye bölünebilir.\n"
          ]
        }
      ],
      "source": [
        "sayi = int(input(\"Bir sayı girin: \"))\n",
        "\n",
        "if sayi % 5 == 0 or sayi % 7 == 0:\n",
        "    if sayi % 5 == 0:\n",
        "        print(f\"{sayi}, 5'e bölünebilir.\")\n",
        "    if sayi % 7 == 0:\n",
        "        print(f\"{sayi}, 7'ye bölünebilir.\")\n",
        "else:\n",
        "    print(f\"{sayi}, ne 5'e ne de 7'ye bölünemez.\")\n"
      ]
    },
    {
      "cell_type": "code",
      "source": [
        "import random\n",
        "\n",
        "hedef_sayi = random.randint(1, 9)\n",
        "\n",
        "while True:\n",
        "    tahmin = int(input(\"1 ile 9 arasında bir sayı tahmin edin: \"))\n",
        "\n",
        "    if tahmin == hedef_sayi:\n",
        "        print(\"İyi tahmin.\")\n",
        "        break\n",
        "    else:\n",
        "        print(\"Yanlış tahmin.\")\n"
      ],
      "metadata": {
        "colab": {
          "base_uri": "https://localhost:8080/"
        },
        "id": "KXRCxmDDkCSB",
        "outputId": "dcb1efd2-69bb-4ffd-a9e8-36042f817076"
      },
      "execution_count": null,
      "outputs": [
        {
          "output_type": "stream",
          "name": "stdout",
          "text": [
            "1 ile 9 arasında bir sayı tahmin edin: 8\n",
            "Yanlış tahmin.\n",
            "1 ile 9 arasında bir sayı tahmin edin: 7\n",
            "Yanlış tahmin.\n",
            "1 ile 9 arasında bir sayı tahmin edin: 9\n",
            "Yanlış tahmin.\n",
            "1 ile 9 arasında bir sayı tahmin edin: 1\n",
            "Yanlış tahmin.\n",
            "1 ile 9 arasında bir sayı tahmin edin: 3\n",
            "İyi tahmin!\n"
          ]
        }
      ]
    },
    {
      "cell_type": "code",
      "source": [
        "kelime = input(\"Bir kelime girin: \")\n",
        "\n",
        "if len(kelime) < 1:\n",
        "    print(\"Geçersiz giriş. En az bir karakter içeren bir kelime girin.\")\n",
        "else:\n",
        "    ilk_harf = kelime[0]\n",
        "    son_harf = kelime[-1]\n",
        "\n",
        "    if ilk_harf == son_harf:\n",
        "        print(f\"{kelime} kelimesinin başında ve sonunda aynı harfler bulunur.\")\n",
        "    else:\n",
        "        print(f\"{kelime} kelimesinin başında ve sonunda farklı harfler bulunur.\")\n"
      ],
      "metadata": {
        "colab": {
          "base_uri": "https://localhost:8080/"
        },
        "id": "Azxnjhsalhuc",
        "outputId": "3d15a695-6ff1-4138-e791-d9db2f833c6d"
      },
      "execution_count": null,
      "outputs": [
        {
          "output_type": "stream",
          "name": "stdout",
          "text": [
            "Bir kelime girin: kurak\n",
            "kurak kelimesinin başında ve sonunda aynı harf bulunur.\n"
          ]
        }
      ]
    },
    {
      "cell_type": "code",
      "source": [
        "boy = float(input(\"Boyunuzu (metre cinsinden) girin: \"))\n",
        "kilo = float(input(\"Kilonuzu (kilogram cinsinden) girin: \"))\n",
        "\n",
        "bmi = kilo / (boy ** 2)\n",
        "\n",
        "print(f\"Beden Kitle İndeksiniz (BMI): {bmi:.2f}\")\n",
        "\n",
        "if bmi < 20:\n",
        "    print(\"Zayıf\")\n",
        "elif 20 <= bmi < 25:\n",
        "    print(\"Normal\")\n",
        "elif 25 <= bmi < 30:\n",
        "    print(\"Aşırı kilolu\")\n",
        "else:\n",
        "    print(\"Obez\")\n"
      ],
      "metadata": {
        "colab": {
          "base_uri": "https://localhost:8080/"
        },
        "id": "2kovW1g8msbX",
        "outputId": "faf0729f-7e0d-45b2-8c0a-25b45b22d100"
      },
      "execution_count": null,
      "outputs": [
        {
          "output_type": "stream",
          "name": "stdout",
          "text": [
            "Boyunuzu (metre cinsinden) girin: 1.85\n",
            "Kilonuzu (kilogram cinsinden) girin: 87\n",
            "Beden Kitle İndeksiniz (BMI): 25.42\n",
            "Aşırı kilolu\n"
          ]
        }
      ]
    }
  ]
}
