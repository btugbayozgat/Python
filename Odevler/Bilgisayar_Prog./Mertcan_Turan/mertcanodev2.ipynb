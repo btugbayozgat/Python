{
  "nbformat": 4,
  "nbformat_minor": 0,
  "metadata": {
    "colab": {
      "provenance": []
    },
    "kernelspec": {
      "name": "python3",
      "display_name": "Python 3"
    },
    "language_info": {
      "name": "python"
    }
  },
  "cells": [
    {
      "cell_type": "code",
      "execution_count": 47,
      "metadata": {
        "colab": {
          "base_uri": "https://localhost:8080/",
          "height": 453
        },
        "id": "fum2CSS0T8ns",
        "outputId": "0679f35b-d796-43eb-802e-559ab1598e13"
      },
      "outputs": [
        {
          "output_type": "stream",
          "name": "stdout",
          "text": [
            "1'den 10'a kadar olan sayıların karelerinin toplamı: 385\n",
            "Bir sayı girin: 35\n",
            "35 hem 5'e hem de 7'ye bölünür.\n"
          ]
        },
        {
          "output_type": "error",
          "ename": "KeyboardInterrupt",
          "evalue": "ignored",
          "traceback": [
            "\u001b[0;31m---------------------------------------------------------------------------\u001b[0m",
            "\u001b[0;31mKeyboardInterrupt\u001b[0m                         Traceback (most recent call last)",
            "\u001b[0;32m<ipython-input-47-1836c2b91169>\u001b[0m in \u001b[0;36m<cell line: 22>\u001b[0;34m()\u001b[0m\n\u001b[1;32m     23\u001b[0m     \u001b[0mrastgele_sayi\u001b[0m \u001b[0;34m=\u001b[0m \u001b[0mrandom\u001b[0m\u001b[0;34m.\u001b[0m\u001b[0mrandint\u001b[0m\u001b[0;34m(\u001b[0m\u001b[0;36m1\u001b[0m\u001b[0;34m,\u001b[0m \u001b[0;36m9\u001b[0m\u001b[0;34m)\u001b[0m\u001b[0;34m\u001b[0m\u001b[0;34m\u001b[0m\u001b[0m\n\u001b[1;32m     24\u001b[0m \u001b[0;34m\u001b[0m\u001b[0m\n\u001b[0;32m---> 25\u001b[0;31m     \u001b[0mx\u001b[0m \u001b[0;34m=\u001b[0m \u001b[0mint\u001b[0m\u001b[0;34m(\u001b[0m\u001b[0minput\u001b[0m\u001b[0;34m(\u001b[0m\u001b[0;34m\"1-9 arasındaki sayıyı tahmin ediniz: \"\u001b[0m\u001b[0;34m)\u001b[0m\u001b[0;34m)\u001b[0m\u001b[0;34m\u001b[0m\u001b[0;34m\u001b[0m\u001b[0m\n\u001b[0m\u001b[1;32m     26\u001b[0m \u001b[0;34m\u001b[0m\u001b[0m\n\u001b[1;32m     27\u001b[0m     \u001b[0;32mif\u001b[0m \u001b[0mx\u001b[0m \u001b[0;34m<\u001b[0m \u001b[0;36m1\u001b[0m \u001b[0;32mor\u001b[0m \u001b[0mx\u001b[0m \u001b[0;34m>\u001b[0m \u001b[0;36m9\u001b[0m\u001b[0;34m:\u001b[0m\u001b[0;34m\u001b[0m\u001b[0;34m\u001b[0m\u001b[0m\n",
            "\u001b[0;32m/usr/local/lib/python3.10/dist-packages/ipykernel/kernelbase.py\u001b[0m in \u001b[0;36mraw_input\u001b[0;34m(self, prompt)\u001b[0m\n\u001b[1;32m    849\u001b[0m                 \u001b[0;34m\"raw_input was called, but this frontend does not support input requests.\"\u001b[0m\u001b[0;34m\u001b[0m\u001b[0;34m\u001b[0m\u001b[0m\n\u001b[1;32m    850\u001b[0m             )\n\u001b[0;32m--> 851\u001b[0;31m         return self._input_request(str(prompt),\n\u001b[0m\u001b[1;32m    852\u001b[0m             \u001b[0mself\u001b[0m\u001b[0;34m.\u001b[0m\u001b[0m_parent_ident\u001b[0m\u001b[0;34m,\u001b[0m\u001b[0;34m\u001b[0m\u001b[0;34m\u001b[0m\u001b[0m\n\u001b[1;32m    853\u001b[0m             \u001b[0mself\u001b[0m\u001b[0;34m.\u001b[0m\u001b[0m_parent_header\u001b[0m\u001b[0;34m,\u001b[0m\u001b[0;34m\u001b[0m\u001b[0;34m\u001b[0m\u001b[0m\n",
            "\u001b[0;32m/usr/local/lib/python3.10/dist-packages/ipykernel/kernelbase.py\u001b[0m in \u001b[0;36m_input_request\u001b[0;34m(self, prompt, ident, parent, password)\u001b[0m\n\u001b[1;32m    893\u001b[0m             \u001b[0;32mexcept\u001b[0m \u001b[0mKeyboardInterrupt\u001b[0m\u001b[0;34m:\u001b[0m\u001b[0;34m\u001b[0m\u001b[0;34m\u001b[0m\u001b[0m\n\u001b[1;32m    894\u001b[0m                 \u001b[0;31m# re-raise KeyboardInterrupt, to truncate traceback\u001b[0m\u001b[0;34m\u001b[0m\u001b[0;34m\u001b[0m\u001b[0m\n\u001b[0;32m--> 895\u001b[0;31m                 \u001b[0;32mraise\u001b[0m \u001b[0mKeyboardInterrupt\u001b[0m\u001b[0;34m(\u001b[0m\u001b[0;34m\"Interrupted by user\"\u001b[0m\u001b[0;34m)\u001b[0m \u001b[0;32mfrom\u001b[0m \u001b[0;32mNone\u001b[0m\u001b[0;34m\u001b[0m\u001b[0;34m\u001b[0m\u001b[0m\n\u001b[0m\u001b[1;32m    896\u001b[0m             \u001b[0;32mexcept\u001b[0m \u001b[0mException\u001b[0m \u001b[0;32mas\u001b[0m \u001b[0me\u001b[0m\u001b[0;34m:\u001b[0m\u001b[0;34m\u001b[0m\u001b[0;34m\u001b[0m\u001b[0m\n\u001b[1;32m    897\u001b[0m                 \u001b[0mself\u001b[0m\u001b[0;34m.\u001b[0m\u001b[0mlog\u001b[0m\u001b[0;34m.\u001b[0m\u001b[0mwarning\u001b[0m\u001b[0;34m(\u001b[0m\u001b[0;34m\"Invalid Message:\"\u001b[0m\u001b[0;34m,\u001b[0m \u001b[0mexc_info\u001b[0m\u001b[0;34m=\u001b[0m\u001b[0;32mTrue\u001b[0m\u001b[0;34m)\u001b[0m\u001b[0;34m\u001b[0m\u001b[0;34m\u001b[0m\u001b[0m\n",
            "\u001b[0;31mKeyboardInterrupt\u001b[0m: Interrupted by user"
          ]
        }
      ],
      "source": [
        "#0. alıstırma\n",
        "toplam = 0\n",
        "for i in range(1, 11):\n",
        "    toplam += i ** 2\n",
        "\n",
        "print(\"1'den 10'a kadar olan sayıların karelerinin toplamı:\", toplam)\n",
        "#1. alıstırma\n",
        "sayi = int(input(\"Bir sayı girin: \"))\n",
        "if sayi % 5 == 0 and sayi % 7 == 0:\n",
        "    print(sayi, \"hem 5'e hem de 7'ye bölünür.\")\n",
        "elif sayi % 5 == 0:\n",
        "    print(sayi, \"sadece 5'e bölünür.\")\n",
        "elif sayi % 7 == 0:\n",
        "    print(sayi, \"sadece 7'ye bölünür.\")\n",
        "else:\n",
        "    print(sayi, \"ne 5'e ne de 7'ye bölünmez.\")\n",
        "\n",
        "#2. alıstırma\n",
        "import random\n",
        "\n",
        "i = 1\n",
        "while i < 99:\n",
        "    rastgele_sayi = random.randint(1, 9)\n",
        "\n",
        "    x = int(input(\"1-9 arasındaki sayıyı tahmin ediniz: \"))\n",
        "\n",
        "    if x < 1 or x > 9:\n",
        "        print(\"Hatalı giriş! Sayı 1-9 arasında olmalı.\")\n",
        "    elif x == rastgele_sayi:\n",
        "        print(\"Tebrikler, bildiniz!\")\n",
        "        break\n",
        "    else:\n",
        "        print(\"Bilemediniz. Rastgele sayı:\", rastgele_sayi)\n",
        "\n",
        "    i += 1\n",
        "#3. alıstırma\n",
        "kelime = input(\"Bir kelime girin: \")\n",
        "\n",
        "# Kelimenin ilk ve son harfi aynı mı diye kontrol et\n",
        "if len(kelime) >= 2 and kelime[0] == kelime[-1]:\n",
        "    print(\"Kelimenin ilk ve son harfi aynıdır.\")\n",
        "else:\n",
        "    print(\"Kelimenin ilk ve son harfi aynı değildir.\")\n",
        "#4. alıstırma\n",
        "kilo = float(input(\"Kilonuzu kilogram cinsinden girin: \"))\n",
        "boy = float(input(\"Boyunuzu metre cinsinden girin: \"))\n",
        "bmi = kilo / (boy ** 2)\n",
        "print(\"Beden Kitle İndeksiniz: {:.2f}\".format(bmi))\n",
        "if bmi < 18.5:\n",
        "    print(\"Zayıf\")\n",
        "elif 18.5 <= bmi < 24.9:\n",
        "    print(\"Normal\")\n",
        "elif 24.9 <= bmi < 29.9:\n",
        "    print(\"Fazla Kilolu\")\n",
        "else:\n",
        "    print(\"Obez\")\n"
      ]
    },
    {
      "cell_type": "code",
      "source": [],
      "metadata": {
        "id": "_Xh1ln3Uwp8-"
      },
      "execution_count": null,
      "outputs": []
    }
  ]
}