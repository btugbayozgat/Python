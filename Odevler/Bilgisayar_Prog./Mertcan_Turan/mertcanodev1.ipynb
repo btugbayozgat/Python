{
  "nbformat": 4,
  "nbformat_minor": 0,
  "metadata": {
    "colab": {
      "provenance": [],
      "authorship_tag": "ABX9TyOwz4hmrrjKtBrPyLkQgOl3",
      "include_colab_link": true
    },
    "kernelspec": {
      "name": "python3",
      "display_name": "Python 3"
    },
    "language_info": {
      "name": "python"
    }
  },
  "cells": [
    {
      "cell_type": "markdown",
      "metadata": {
        "id": "view-in-github",
        "colab_type": "text"
      },
      "source": [
        "<a href=\"https://colab.research.google.com/github/MertcanTURAN25/Python/blob/Python-Dersi/mertcanodev1.ipynb\" target=\"_parent\"><img src=\"https://colab.research.google.com/assets/colab-badge.svg\" alt=\"Open In Colab\"/></a>"
      ]
    },
    {
      "cell_type": "code",
      "execution_count": null,
      "metadata": {
        "id": "J0Um5LCsa2X0"
      },
      "outputs": [],
      "source": [
        "#1. alıstırma\n",
        "kelvin = 400\n",
        "celcius = kelvin - 273.15\n",
        "print(f\"400 kelvin {celcius:.2f} C eder\")\n",
        "#2. alıstırma\n",
        "pi = 3.14\n",
        "r = 1.5\n",
        "alan = pi * (r ** 2)\n",
        "cevre = 2 * pi * r\n",
        "print(\"Dairenin Alanı:\", alan)\n",
        "print(\"Dairenin Çevresi:\", cevre)\n",
        "#3. alıstırma\n",
        "sayi = input(\"4 basamaklı bir sayı girin: \")\n",
        "toplam = int(sayi[0]) + int(sayi[3])\n",
        "print(\"İlk ve son basamağın toplamı:\", toplam)\n",
        "#4. alıstırma\n",
        "hiz = 110\n",
        "mesafe = 500\n",
        "sure_saat = mesafe / hiz\n",
        "sure_saat_tam = int(sure_saat)\n",
        "sure_dakika = (sure_saat - sure_saat_tam) * 60\n",
        "print(f\"500 km'lik yolculuk {sure_saat_tam} saat {int(sure_dakika)} dakika sürecek.\")\n",
        "\n",
        "\n",
        "\n",
        "\n",
        "\n",
        "\n"
      ]
    }
  ]
}