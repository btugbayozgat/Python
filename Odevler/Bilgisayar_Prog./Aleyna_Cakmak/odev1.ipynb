 "source": [
        "celcius = 400 - 273\n",
        "\n",
        "\n",
        "print(f\"400 Kelvin {celcius:.2f} Celcius'a eşittir.\")"
      ]
    },
    {
      "cell_type": "code",
      "source": [
        "pi = 3.14\n",
        "\n",
        "yaricap = 1.5\n",
        "\n",
        "\n",
        "alan = pi * yaricap * yaricap\n",
        "\n",
        "\n",
        "cevre = 2 * pi * yaricap\n",
        "\n",
        "print(f\"Dairenin alanı {alan:.2f} cm²'dir.\")\n",
        "print(f\"Dairenin çevresi {cevre:.2f} cm'dir.\")"
      ],
      "metadata": {
        "colab": {
          "base_uri": "https://localhost:8080/"
        },
        "id": "jGDMaPU_nvsp",
        "outputId": "e11af4cf-aee3-4951-95d1-10a999dd6317"
      },
      "execution_count": 4,
      "outputs": [
        {
          "output_type": "stream",
          "name": "stdout",
          "text": [
            "Dairenin alanı 7.06 cm²'dir.\n",
            "Dairenin çevresi 9.42 cm'dir.\n"
          ]
        }
      ]
    },
    {
      "cell_type": "code",
      "source": [
        "\n",
        "sayi = int(input(\"Dört basamaklı bir sayı giriniz: \"))\n",
        "\n",
        "\n",
        "a= sayi // 1000\n",
        "B = sayi % 10\n",
        "toplam = a + B\n",
        "\n",
        "print(f\"Girilen sayının ilk ve son basamağının toplamı {toplam}'dir.\")"
      ],
      "metadata": {
        "colab": {
          "base_uri": "https://localhost:8080/"
        },
        "id": "K1-oX5Ffn69Y",
        "outputId": "a140e0c9-4721-4140-c0c6-fdc293014830"
      },
      "execution_count": 5,
      "outputs": [
        {
          "output_type": "stream",
          "name": "stdout",
          "text": [
            "Dört basamaklı bir sayı giriniz: 1268\n",
            "Girilen sayının ilk ve son basamağının toplamı 9'dir.\n"
          ]
        }
      ]
    },
    {
      "cell_type": "code",
      "source": [
        "hiz = 110\n",
        "yol = 500\n",
        "\n",
        "sure = yol / hiz\n",
        "saat = int(sure)\n",
        "dk = (sure - saat) * 60\n",
        "\n",
        "print(\"Araba\", \"500 km yolu\", saat, \"saat\", dk, \"dakikada gider.\")"
      ],
      "metadata": {
        "id": "yvIYFARxoRra"
      },
      "execution_count": null,
      "outputs": []
    }
  ]
