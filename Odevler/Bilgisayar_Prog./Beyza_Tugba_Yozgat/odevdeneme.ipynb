
#alistırma 1
kelvin = 400
celsius = kelvin-273.15
print(celsius)
