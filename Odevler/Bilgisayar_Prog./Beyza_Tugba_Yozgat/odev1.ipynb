{
  "nbformat": 4,
  "nbformat_minor": 0,
  "metadata": {
    "colab": {
      "provenance": []
    },
    "kernelspec": {
      "name": "python3",
      "display_name": "Python 3"
    },
    "language_info": {
      "name": "python"
    }
  },
  "cells": [
    {
      "cell_type": "code",
      "execution_count": null,
      "metadata": {
        "colab": {
          "base_uri": "https://localhost:8080/"
        },
        "id": "ev3qw47LFC1w",
        "outputId": "dc77194b-1f9b-41b6-e4d2-e8e696117708"
      },
      "outputs": [
        {
          "output_type": "stream",
          "name": "stdout",
          "text": [
            "126.85000000000002\n"
          ]
        }
      ],
      "source": [
        "#alistırma 1\n",
        "kelvin = 400\n",
        "celsius = kelvin-273.15\n",
        "print(celsius)\n"
      ]
    },
    {
      "cell_type": "code",
      "source": [
        "#alistirma 2\n",
        "pi = 3.14\n",
        "r = 1.5\n",
        "\n",
        "alan = pi * r ** 2\n",
        "cevre = 2 * pi * r\n",
        "\n",
        "print(\"Dairenin alanı cmkare\", alan)\n",
        "print(\"Dairenin çevresi\", cevre)"
      ],
      "metadata": {
        "colab": {
          "base_uri": "https://localhost:8080/"
        },
        "id": "N4arx0pKF7s3",
        "outputId": "491bed63-ff77-432e-b81a-15c638ef8242"
      },
      "execution_count": null,
      "outputs": [
        {
          "output_type": "stream",
          "name": "stdout",
          "text": [
            "Dairenin alanı cmkare 7.065\n",
            "Dairenin çevresi 9.42\n"
          ]
        }
      ]
    },
    {
      "cell_type": "code",
      "source": [
        "#alistirma 3\n",
        "sayi = input(\"Dört basamaklı sayı\")\n",
        "ilk_basamak = int(sayi[0])\n",
        "son_basamak = int(sayi[-1])\n",
        "toplam = ilk_basamak + son_basamak\n",
        "\n",
        "print(\"Girilen sayının ilk ve son basamak toplamı\", toplam)\n"
      ],
      "metadata": {
        "colab": {
          "base_uri": "https://localhost:8080/"
        },
        "id": "HQ8Ied6zGdoe",
        "outputId": "5fba0a28-1b89-4a1c-e769-53c449dc55c3"
      },
      "execution_count": null,
      "outputs": [
        {
          "output_type": "stream",
          "name": "stdout",
          "text": [
            "Dört basamaklı sayı1234\n",
            "Girilen sayının ilk ve son basamak 5\n"
          ]
        }
      ]
    },
    {
      "cell_type": "code",
      "source": [
        "#alistirma 4\n",
        "hiz=110\n",
        "mesafe=500\n",
        "saatteki_mesafe= mesafe / hiz\n",
        "dakikada_mesafe= saatteki_mesafe * 60\n",
        "print(int(saatteki_mesafe),\"saat\", int(dakikada_mesafe %60),\"dakikada gider\")"
      ],
      "metadata": {
        "colab": {
          "base_uri": "https://localhost:8080/"
        },
        "id": "a_yZoCbVHID6",
        "outputId": "5d3e13c8-54aa-4cce-afa4-5970559bbabe"
      },
      "execution_count": null,
      "outputs": [
        {
          "output_type": "stream",
          "name": "stdout",
          "text": [
            "4 saat 32 dakikada tamamladı\n"
          ]
        }
      ]
    }
  ]
}
