{
  "nbformat": 4,
  "nbformat_minor": 0,
  "metadata": {
    "colab": {
      "provenance": []
    },
    "kernelspec": {
      "name": "python3",
      "display_name": "Python 3"
    },
    "language_info": {
      "name": "python"
    }
  },
  "cells": [
    {
      "cell_type": "code",
      "execution_count": 8,
      "metadata": {
        "id": "FNZsQ7Ls0FbP",
        "colab": {
          "base_uri": "https://localhost:8080/"
        },
        "outputId": "d189882c-d30c-4e19-9d04-958192fd3d8a"
      },
      "outputs": [
        {
          "output_type": "stream",
          "name": "stdout",
          "text": [
            "Lütfen bir sayı girin: 32\n",
            "32 sayısı ne 5'e ne de 7'ye bölünebilir.\n"
          ]
        }
      ],
      "source": [
        "#alistirma1\n",
        "sayi = int(input(\"Lütfen bir sayı girin: \"))\n",
        "if sayi % 7 == 0 and sayi % 5 == 0:\n",
        "    print(f\"{sayi} sayısı 7'ye ve 5'e bölünür.\")\n",
        "elif sayi % 7 == 0:\n",
        "    print(f\"{sayi} sayısı 7'ye bölünür\")\n",
        "elif sayi % 5 == 0:\n",
        "    print(f\"{sayi} sayısı 5'e bölünür.\")\n",
        "else:\n",
        "    print(f\"{sayi} sayısı ne 5'e ne de 7'ye bölünebilir.\")"
      ]
    },
    {
      "cell_type": "code",
      "source": [
        "#alistirma2\n",
        "import random\n",
        "num=random.randint(1,9)\n",
        "tahmin=int(input('1 ile 9 arasında bir sayı seçin '))\n",
        "if num==tahmin:\n",
        "  print('iyi tahmin')\n",
        "else:\n",
        "  print('tahminin yanlış doğru sayı : ',num)"
      ],
      "metadata": {
        "colab": {
          "base_uri": "https://localhost:8080/"
        },
        "id": "tomwYw6x0MHK",
        "outputId": "54271248-c2d7-4cd4-d6b1-d7740c85b6ff"
      },
      "execution_count": 11,
      "outputs": [
        {
          "output_type": "stream",
          "name": "stdout",
          "text": [
            "1 ile 9 arasında bir sayı seçin 8\n",
            "tahminin yanlış doğru sayı :  4\n"
          ]
        }
      ]
    },
    {
      "cell_type": "code",
      "source": [
        "#alistirma3\n",
        "sayi = input(\"Lütfen bir kelime girin: \")\n",
        "if sayi[0] == sayi[-1]:\n",
        "    print(f\"{sayi} kelimesinin başı ve sonu aynı harfe sahiptir.\")\n",
        "else:\n",
        "    print(f\"{sayi} kelimesinin başı ve sonu aynı harfe sahip değildir.\")"
      ],
      "metadata": {
        "id": "59raNTvI0Ozx",
        "colab": {
          "base_uri": "https://localhost:8080/"
        },
        "outputId": "0991dd8e-9b3e-4b82-e35d-d87bf30c1bb0"
      },
      "execution_count": 10,
      "outputs": [
        {
          "output_type": "stream",
          "name": "stdout",
          "text": [
            "Lütfen bir kelime girin: ada\n",
            "ada kelimesinin başı ve sonu aynı harfe sahiptir.\n"
          ]
        }
      ]
    },
    {
      "cell_type": "code",
      "source": [
        "#alistirma4\n",
        "boy=float(input('boyunuzu giriniz '))\n",
        "kilo=float(input('kilonuzu giriniz '))\n",
        "bmi=kilo/boy**2\n",
        "if bmi >= 30:\n",
        " print('obez',bmi)\n",
        "elif 25 <= bmi < 30:\n",
        " print('aşırı kilolu',bmi)\n",
        "elif 20 <= bmi < 25:\n",
        " print('normal',bmi)\n",
        "else :\n",
        "  print('zayıf',bmi)"
      ],
      "metadata": {
        "colab": {
          "base_uri": "https://localhost:8080/"
        },
        "id": "6LXQBLp30O2Z",
        "outputId": "16265a5a-edcc-42a1-9fe6-5146aa3358d2"
      },
      "execution_count": null,
      "outputs": [
        {
          "output_type": "stream",
          "name": "stdout",
          "text": [
            "boyunuzu giriniz 1.57\n",
            "kilonuzu giriniz 60\n",
            "normal 24.341758286340216\n"
          ]
        }
      ]
    }
  ]
}
