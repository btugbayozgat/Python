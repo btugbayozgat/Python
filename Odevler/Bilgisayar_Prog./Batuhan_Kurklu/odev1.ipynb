{
 "cells": [
  {
   "cell_type": "code",
   "execution_count": 1,
   "id": "c78507e2",
   "metadata": {},
   "outputs": [
    {
     "name": "stdout",
     "output_type": "stream",
     "text": [
      "400 Derece Kelvin Isısının Celcius Değeri :  126.85000000000002\n"
     ]
    }
   ],
   "source": [
    "kelvin = 400\n",
    "celciusderece = 273.15\n",
    "cevrim = kelvin - celciusderece\n",
    "\n",
    "print(\"400 Derece Kelvin Isısının Celcius Değeri : \",cevrim)"
   ]
  },
  {
   "cell_type": "code",
   "execution_count": 2,
   "id": "c52f2ec9",
   "metadata": {},
   "outputs": [
    {
     "name": "stdout",
     "output_type": "stream",
     "text": [
      "Dairenin Alanı :  7.065\n",
      "Dairenin Cevresi :  9.42\n"
     ]
    }
   ],
   "source": [
    "yaricap = 1.5\n",
    "pidegeri = 3.14\n",
    "dairealan = pidegeri*yaricap**2\n",
    "dairecevre = 2*pidegeri*yaricap\n",
    "\n",
    "print(\"Dairenin Alanı : \",dairealan)\n",
    "print(\"Dairenin Cevresi : \",dairecevre)\n"
   ]
  },
  {
   "cell_type": "code",
   "execution_count": 4,
   "id": "a5ad754e",
   "metadata": {},
   "outputs": [
    {
     "name": "stdout",
     "output_type": "stream",
     "text": [
      "4 Basamaklı Bir Sayı Giriniz: \n",
      "None4569\n",
      "4 Basamaklı Sayinin İlk ve Son Basamagındaki Sayilarin Toplami :  13\n"
     ]
    }
   ],
   "source": [
    "deger = int(input(print(\"4 Basamaklı Bir Sayı Giriniz: \")))\n",
    "ilksayi = deger//1000\n",
    "sonsayi = deger%10\n",
    "\n",
    "sonuc = ilksayi+ sonsayi\n",
    "print(\"4 Basamaklı Sayinin İlk ve Son Basamagındaki Sayilarin Toplami : \",sonuc)"
   ]
  },
  {
   "cell_type": "code",
   "execution_count": 5,
   "id": "4c92a9b7",
   "metadata": {},
   "outputs": [
    {
     "name": "stdout",
     "output_type": "stream",
     "text": [
      "Arac 500kmlik Mesafeyi Şu Kadar Saatte Gitmiştir :  4.545454545454546\n",
      "Arac 500kmlik Mesafeyi Şu Kadar Dakikada Gitmiştir :  272.72727272727275\n"
     ]
    }
   ],
   "source": [
    "aracinhizi = 110\n",
    "aracinmesafesi = 500\n",
    "toplamsaat = aracinmesafesi/aracinhizi\n",
    "toplamdakika = toplamsaat*60\n",
    "\n",
    "print(\"Arac 500kmlik Mesafeyi Şu Kadar Saatte Gitmiştir : \",toplamsaat)\n",
    "print(\"Arac 500kmlik Mesafeyi Şu Kadar Dakikada Gitmiştir : \",toplamdakika)\n"
   ]
  }
 ],
 "metadata": {
  "kernelspec": {
   "display_name": "Python 3 (ipykernel)",
   "language": "python",
   "name": "python3"
  },
  "language_info": {
   "codemirror_mode": {
    "name": "ipython",
    "version": 3
   },
   "file_extension": ".py",
   "mimetype": "text/x-python",
   "name": "python",
   "nbconvert_exporter": "python",
   "pygments_lexer": "ipython3",
   "version": "3.11.5"
  }
 },
 "nbformat": 4,
 "nbformat_minor": 5
}
