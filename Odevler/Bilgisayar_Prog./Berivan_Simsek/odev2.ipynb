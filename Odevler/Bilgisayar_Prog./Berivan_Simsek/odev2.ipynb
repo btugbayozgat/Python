kelvin=400
celcius=kelvin-273.15
print(f'Celcius değeri: {celcius:.2f}')

r=1.5
pi=3.14
alan=pi*r*r
cevre=2*pi*r
print(f'Dairenin alanı:{alan:.2f}, dairenin çevresi:{cevre:.2f}')


sayi=int(input("4 basamaklı sayı giriniz: "))
s1=sayi % 10
s2=sayi // 1000
sum=s1+s2
print("İlk ve son rakamının toplamı: ",sum)

km=500
saat=110
süre=km/saat
dakika=süre*60
print(int(süre),"saat " f'{int(dakika % 60)} dakika')
