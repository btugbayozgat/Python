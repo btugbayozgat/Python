{
 "cells": [
  {
   "cell_type": "code",
   "execution_count": 4,
   "id": "76d3c1e6",
   "metadata": {},
   "outputs": [
    {
     "name": "stdout",
     "output_type": "stream",
     "text": [
      "400 Kelvin 126.85000000000002 Celcius dereceye eşittir.\n"
     ]
    }
   ],
   "source": [
    "kelvinisi = 400\n",
    "celciusisi = kelvinisi-273.15\n",
    "print(f\"{kelvinisi} Kelvin {celciusisi} Celcius dereceye eşittir.\")"
   ]
  },
  {
   "cell_type": "code",
   "execution_count": 5,
   "id": "d7c99a6d",
   "metadata": {},
   "outputs": [
    {
     "name": "stdout",
     "output_type": "stream",
     "text": [
      "Dairenin Alanı:  7.065\n",
      "Dairenin Çevresi:  9.42\n"
     ]
    }
   ],
   "source": [
    "yaricap= 1.5\n",
    "pi=3.14\n",
    "dairealan= pi*(yaricap*yaricap)\n",
    "dairecevre=2*pi*yaricap\n",
    "print(\"Dairenin Alanı: \",dairealan)\n",
    "print(\"Dairenin Çevresi: \",dairecevre)"
   ]
  },
  {
   "cell_type": "code",
   "execution_count": 6,
   "id": "3ca24144",
   "metadata": {},
   "outputs": [
    {
     "name": "stdout",
     "output_type": "stream",
     "text": [
      "Dört Basamaklı Bir Sayı Giriniz: 1256\n",
      "1256 4 basamaklı sayısının ilk ve son basamağının toplamı: 7\n"
     ]
    }
   ],
   "source": [
    "sayi=int(input(\"Dört Basamaklı Bir Sayı Giriniz: \"))\n",
    "ilkbasamak= sayi//1000\n",
    "sonbasamak=sayi%10\n",
    "toplam=ilkbasamak+sonbasamak\n",
    "print(f\"{sayi} 4 basamaklı sayısının ilk ve son basamağının toplamı: {toplam}\")"
   ]
  },
  {
   "cell_type": "code",
   "execution_count": 12,
   "id": "f9070a71",
   "metadata": {},
   "outputs": [
    {
     "name": "stdout",
     "output_type": "stream",
     "text": [
      "Araç 500.00 km'lik mesafeyi 4.55 saatte ve 272.73 dakikada gitmektedir\n"
     ]
    }
   ],
   "source": [
    "arachizi= 110\n",
    "aracmesafesi= 500\n",
    "saatsuresi= aracmesafesi/arachizi\n",
    "dakikasuresi= saatsuresi *60\n",
    "print(f\"Araç {aracmesafesi:.2f} km'lik mesafeyi {saatsuresi:.2f} saatte ve {dakikasuresi:.2f} dakikada gitmektedir\")"
   ]
  },
  {
   "cell_type": "code",
   "execution_count": null,
   "id": "3d2decdd",
   "metadata": {},
   "outputs": [],
   "source": []
  }
 ],
 "metadata": {
  "kernelspec": {
   "display_name": "Python 3 (ipykernel)",
   "language": "python",
   "name": "python3"
  },
  "language_info": {
   "codemirror_mode": {
    "name": "ipython",
    "version": 3
   },
   "file_extension": ".py",
   "mimetype": "text/x-python",
   "name": "python",
   "nbconvert_exporter": "python",
   "pygments_lexer": "ipython3",
   "version": "3.11.5"
  }
 },
 "nbformat": 4,
 "nbformat_minor": 5
}
