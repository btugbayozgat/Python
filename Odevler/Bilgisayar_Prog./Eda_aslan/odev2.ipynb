{
  "nbformat": 4,
  "nbformat_minor": 0,
  "metadata": {
    "colab": {
      "provenance": [],
      "toc_visible": true
    },
    "kernelspec": {
      "name": "python3",
      "display_name": "Python 3"
    },
    "language_info": {
      "name": "python"
    }
  },
  "cells": [
    {
      "cell_type": "code",
      "execution_count": null,
      "metadata": {
        "colab": {
          "base_uri": "https://localhost:8080/"
        },
        "id": "Mb1EVf2ziSN2",
        "outputId": "ccd07761-06e8-4cfa-d1fd-5762ed890a8d"
      },
      "outputs": [
        {
          "output_type": "stream",
          "name": "stdout",
          "text": [
            "Sayı giriniz:84\n",
            "Girdiğiniz sayı 7'ye bölünmektedir. Girdiğiniz sayının 7'ye bölümü: 12.0\n"
          ]
        }
      ],
      "source": [
        "x = int(input('Sayı giriniz:'))\n",
        "if (x % 5) == 0 and (x % 7) == 0:\n",
        "    bolum_5 = x / 5\n",
        "    bolum_7 = x / 7\n",
        "    print(\"Girdiğiniz sayı hem 5'e hem de 7'ye bölünmektedir.\")\n",
        "    print(\"Girdiğiniz sayının 5'e bölümü:\", bolum_5)\n",
        "    print(\"Girdiğiniz sayının 7'ye bölümü:\", bolum_7)\n",
        "elif (x % 5) == 0:\n",
        "    bolum = x / 5\n",
        "    print(\"Girdiğiniz sayı 5'e bölünmektedir. Girdiğiniz sayının 5'e bölümü:\", bolum)\n",
        "elif (x % 7) == 0:\n",
        "    bolum = x / 7\n",
        "    print(\"Girdiğiniz sayı 7'ye bölünmektedir. Girdiğiniz sayının 7'ye bölümü:\", bolum)\n",
        "else:\n",
        "    print(\"Girdiğiniz sayı 5'e ve 7'ye bölünmez.\")"
      ]
    },
    {
      "cell_type": "code",
      "source": [
        "x = int(input('1 ile 9 arasında bir sayı giriniz:'))\n",
        "import random\n",
        "num=random.randint(1,9)\n",
        "if(x==num):\n",
        "  print(\"Doğru tahmin\")\n",
        "else:\n",
        "    print(\"Yanlış Tahmin\")\n",
        "print(\"üretilen sayı\",num)"
      ],
      "metadata": {
        "colab": {
          "base_uri": "https://localhost:8080/"
        },
        "id": "dAQMBbp9tR3L",
        "outputId": "ebcc3c0a-03c8-4896-b537-db0e37c5d5ed"
      },
      "execution_count": null,
      "outputs": [
        {
          "output_type": "stream",
          "name": "stdout",
          "text": [
            "1 ile 9 arasında bir sayı giriniz:5\n",
            "Yanlış Tahmin\n",
            "üretilen sayı 3\n"
          ]
        }
      ]
    },
    {
      "cell_type": "code",
      "source": [
        "kelime=(input(\"Kelime giriniz\"))\n",
        "ilk_harf = kelime[0]\n",
        "son_harf = kelime[-1]\n",
        "\n",
        "if ilk_harf == son_harf:\n",
        "    print(\"İlk harf ve son harf aynı.\")\n",
        "else:\n",
        "    print(\"İlk harf ve son harf aynı değil.\")"
      ],
      "metadata": {
        "colab": {
          "base_uri": "https://localhost:8080/"
        },
        "id": "oD_Ij5DNtT0b",
        "outputId": "a48c2174-a18b-4ee5-81db-e16aebeae643"
      },
      "execution_count": null,
      "outputs": [
        {
          "output_type": "stream",
          "name": "stdout",
          "text": [
            "Kelime girinizaslan\n",
            "İlk harf ve son harf aynı değil.\n"
          ]
        }
      ]
    },
    {
      "cell_type": "code",
      "source": [
        "boy= float(input('Boyunuzu metre cinsinden giriniz:'))\n",
        "kilo = float(input('Kilonuzu giriniz:'))\n",
        "indeks=kilo/boy**2\n",
        "print(f\"Boy kilo indeksiniz:{indeks:.1f}\")\n",
        "if indeks>=30:\n",
        "  print('Obez')\n",
        "elif indeks>=25:\n",
        " print('Aşırı kilolu')\n",
        "elif indeks>20:\n",
        " print('Normal')\n",
        "else:\n",
        " print('Zayıf')"
      ],
      "metadata": {
        "id": "cMw86SZdtWqL",
        "colab": {
          "base_uri": "https://localhost:8080/"
        },
        "outputId": "dcd615ba-be2f-49f3-9cea-938734299181"
      },
      "execution_count": null,
      "outputs": [
        {
          "output_type": "stream",
          "name": "stdout",
          "text": [
            "Boyunuzu metre cinsinden giriniz:1.73\n",
            "Kilonuzu giriniz:60\n",
            "Boy kilo indeksiniz:20.0\n",
            "Normal\n"
          ]
        }
      ]
    },
    {
      "cell_type": "code",
      "source": [
        "x=int(input('Vize notunuzu giriniz:'))\n",
        "y=int(input('Final notunuzu giriniz:'))\n",
        "ort=int((x/100)*40)+((y/100)*60)\n",
        "print(\"Ortalamanız:\",ort)\n",
        "if ort>90:\n",
        "  print('Harf notunuz AA')\n",
        "elif ort>80:\n",
        " print('Harf notunuz BA')\n",
        "elif ort>70:\n",
        " print('Harf notunuz BB')\n",
        "elif ort>60:\n",
        " print('Harf notunuz CB')\n",
        "elif ort>50:\n",
        " print('Harf notunuz CC')\n",
        "elif ort>40:\n",
        " print('Harf notunuz CD')\n",
        "elif ort>35:\n",
        " print('Harf notunuz DD')\n",
        "elif ort>30:\n",
        " print('Harf notunuz DF')\n",
        "elif ort<=30:\n",
        " print('Harf notunuz F')\n"
      ],
      "metadata": {
        "colab": {
          "base_uri": "https://localhost:8080/"
        },
        "id": "8CNcE6g8lN67",
        "outputId": "c2648b55-5627-421c-f803-f3e26dcb72e2"
      },
      "execution_count": null,
      "outputs": [
        {
          "output_type": "stream",
          "name": "stdout",
          "text": [
            "Vize notunuzu giriniz:40\n",
            "Final notunuzu giriniz:60\n",
            "Ortalamanız: 52.0\n",
            "Harf notunuz CC\n"
          ]
        }
      ]
    }
  ]
}
