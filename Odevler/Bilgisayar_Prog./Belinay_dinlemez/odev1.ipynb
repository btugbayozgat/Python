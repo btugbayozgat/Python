{
  "hücreler": [
    {
      "cell_type": "kod",
      "yürütme_sayımı": 2,
      "meta veriler": {
        "ortak çalışma": {
          "base_uri": "https://localhost:8080/"
        },
        "id": "o_08WDqIhyRI",
        "outputId": "7c2383c7-7be3-4c42-a2c1-3f0c669da8bf"
      },
      "çıktılar": [
        {
          "isim": "stdout",
          "output_type": "akış",
          "metin": [
            "Celcius cinsinin değeri:126.85\n"
          ]
        }
      ],
      "kaynak": [
        "K = 400\n",
        "C = K - 273,15\n",
        "print(f\"Santigrat cinsinden değeri:{C:.2f}\")"
      ]
    },
    {
      "cell_type": "kod",
      "yürütme_sayımı": null,
      "meta veriler": {},
      "çıktılar": [],
      "kaynak": []
    },
    {
      "cell_type": "kod",
      "yürütme_sayımı": 4,
      "meta veriler": {
        "ortak çalışma": {
          "base_uri": "https://localhost:8080/"
        },
        "kimlik": "_pQ8j5cxjafR",
        "outputId": "35070b16-e8c1-46b0-d345-e7776daf0e0d"
      },
      "çıktılar": [
        {
          "isim": "stdout",
          "output_type": "akış",
          "metin": [
            "Dairenin Alanı: 7.065 Dairenin Çevresi: 9.42\n"
          ]
        }
      ],
      "kaynak": [
        "r = 1,5\n",
        "pi = 3,14\n",
        "Daire_Alan = pi*(r**2)\n",
        "Daire_Cevre = 2*pi*r\n",
        "print(f\"Dairenin Alanı: {Daire_Alan} Dairenin Çevresi: {Daire_Cevre}\")\n"
      ]
    },
    {
      "cell_type": "kod",
      "yürütme_sayımı": 6,
      "meta veriler": {
        "ortak çalışma": {
          "base_uri": "https://localhost:8080/"
        },
        "id": "aa4BN5ZLkxpb",
        "outputId": "83fadff8-1f5d-4d1b-dc53-602b89fa517b"
      },
      "çıktılar": [
        {
          "isim": "stdout",
          "output_type": "akış",
          "metin": [
            "Dört basamaklı bir sayı giriniz:1234\n",
            "Birinci basamak ve dördüncü basamağın toplamı: 5\n"
          ]
        }
      ],
      "kaynak": [
        "x = int(input(\"Dört basamaklı bir sayı giriniz:\"))\n",
        "B = x // 1000\n",
        "D = x % 10\n",
        "Üst = B + D\n",
        "print(f\"Birinci basamak ve dördüncü basamağın toplamı: {Top}\")"
      ]
    },
    {
      "cell_type": "kod",
      "yürütme_sayımı": 16,
      "meta veriler": {
        "ortak çalışma": {
          "base_uri": "https://localhost:8080/"
        },
        "id": "0_pCKoJDorzQ",
        "outputId": "b47aefcf-057b-4ac7-8466-64bfa12e1ffe"
      },
      "çıktılar": [
        {
          "isim": "stdout",
          "output_type": "akış",
          "metin": [
            "4 Saat 33 Dakika\n"
          ]
        }
      ],
      "kaynak": [
        "Hız = 110\n",
        "Yol = 500\n",
        "Zaman = Yol / Hız\n",
        "Saat = int(Zaman)\n",
        "Dakika = (Zaman-Saat)*60\n",
        "print(f\"{Saat} Saat {Dakika:.0f} Dakika\")\n"
      ]
    }
  ],
  "meta veriler": {
    "ortak çalışma": {
      "kaynak": []
    },
    "çekirdek spesifikasyonu": {
      "display_name": "Python 3",
      "isim": "python3"
    },
    "dil_bilgisi": {
      "isim": "piton"
    }
  },
  "nbformatı": 4,
  "nbformat_minor": 0
}
