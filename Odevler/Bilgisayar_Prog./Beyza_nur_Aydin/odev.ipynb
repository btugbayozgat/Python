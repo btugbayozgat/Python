kelvin = 400
celsius = kelvin - 273.15
print(f"{kelvin} Kelvin, {celsius:.2f} Celsius derecesine eşittir.")

pi = 3.14
yaricap = 1.5

alan = pi * yaricap ** 2
cevre = 2 * pi * yaricap

print(f"Yarıçapı {yaricap} cm olan dairenin alanı: {alan:.2f} cm²")
print(f"Yarıçapı {yaricap} cm olan dairenin çevresi: {cevre:.2f} cm")

sayi = int(input("Dört basamaklı bir sayı girin: "))

ilkbasamak = sayi // 1000

sonbasamak = sayi % 10

toplam = ilkbasamak + sonbasamak

print(f"Girdiğiniz sayının ilk basamağı ({ilkbasamak}) ile son basamağı ({sonbasamak}) toplamı: {toplam}")

yol_uzunlugu_km = 500
hiz_km_s = 110

toplam_saat = yol_uzunlugu_km / hiz_km_s

toplam_saat_int = int(toplam_saat)
toplam_dakika = (toplam_saat - toplam_saat_int) * 60

print(f"Araba {yol_uzunlugu_km} km yolu {toplam_saat_int} saat {int(toplam_dakika)} dakikada gidecektir.")

