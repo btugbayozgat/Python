{
  "nbformat": 4,
  "nbformat_minor": 0,
  "metadata": {
    "colab": {
      "provenance": [],
      "authorship_tag": "ABX9TyOyOV6Wr7/UIO6Hbvrvro4c",
      "include_colab_link": true
    },
    "kernelspec": {
      "name": "python3",
      "display_name": "Python 3"
    },
    "language_info": {
      "name": "python"
    }
  },
  "cells": [
    {
      "cell_type": "markdown",
      "metadata": {
        "id": "view-in-github",
        "colab_type": "text"
      },
      "source": [
        "<a href=\"https://colab.research.google.com/github/BerkayGumrukcu/Odevler/blob/main/odev1.ipynb\" target=\"_parent\"><img src=\"https://colab.research.google.com/assets/colab-badge.svg\" alt=\"Open In Colab\"/></a>"
      ]
    },
    {
      "cell_type": "code",
      "source": [
        "kelvin = 400\n",
        "celcius = kelvin - 273.15\n",
        "\n",
        "print(f\"Celcius değeri : {celcius:.2f}\")"
      ],
      "metadata": {
        "colab": {
          "base_uri": "https://localhost:8080/"
        },
        "id": "Teuq4VxunD-w",
        "outputId": "c1865a09-eade-465b-e01f-0cf1c33ef8ba"
      },
      "execution_count": 1,
      "outputs": [
        {
          "output_type": "stream",
          "name": "stdout",
          "text": [
            "Celcius değeri : 126.85\n"
          ]
        }
      ]
    },
    {
      "cell_type": "code",
      "source": [
        "r = 1.5\n",
        "pi = 3.14\n",
        "daire_alani = pi*(r**2)\n",
        "daire_cevresi = 2*pi*r\n",
        "\n",
        "print(f\"Daire Alanı : {daire_alani}, Daire Çevresi : {daire_cevresi}\")"
      ],
      "metadata": {
        "colab": {
          "base_uri": "https://localhost:8080/"
        },
        "id": "ZDJn3wb6nFxk",
        "outputId": "3142b2b9-73e6-4177-9e66-2ffc34322642"
      },
      "execution_count": 2,
      "outputs": [
        {
          "output_type": "stream",
          "name": "stdout",
          "text": [
            "Daire Alanı : 7.065, Daire Çevresi : 9.42\n"
          ]
        }
      ]
    },
    {
      "cell_type": "code",
      "source": [
        "sayi = int(input(\"Dört basamaklı bir sayı girin: \"))\n",
        "ilk_basamak = sayi // 1000\n",
        "son_basamak = sayi % 10\n",
        "toplam = ilk_basamak + son_basamak\n",
        "\n",
        "print(f\"İlk basamak ve son basamağın toplamı : {toplam}\")"
      ],
      "metadata": {
        "colab": {
          "base_uri": "https://localhost:8080/"
        },
        "id": "u428ujzLnHqm",
        "outputId": "9c0cfb97-bee9-4d7e-f7c4-15ccc5ea8707"
      },
      "execution_count": 4,
      "outputs": [
        {
          "output_type": "stream",
          "name": "stdout",
          "text": [
            "Dört basamaklı bir sayı girin: 5689\n",
            "İlk basamak ve son basamağın toplamı : 14\n"
          ]
        }
      ]
    },
    {
      "cell_type": "code",
      "source": [
        "yol = int(input(\"Katedilen km mesafesini giriniz : \"))\n",
        "hiz = int(input(\"Hızınızı giriniz : \"))\n",
        "zaman = yol / hiz\n",
        "saat = int(zaman)\n",
        "dakika = (zaman - saat)*60\n",
        "\n",
        "print(f\" {saat} Saat {int(dakika)} Dakika\")"
      ],
      "metadata": {
        "colab": {
          "base_uri": "https://localhost:8080/"
        },
        "id": "GJCjWaXVnMO5",
        "outputId": "ef27847d-f704-40b8-e7a9-e5cbd0e14aa5"
      },
      "execution_count": 5,
      "outputs": [
        {
          "output_type": "stream",
          "name": "stdout",
          "text": [
            "Katedilen km mesafesini giriniz : 250\n",
            "Hızınızı giriniz : 110\n",
            " 2 Saat 16 Dakika \n"
          ]
        }
      ]
    }
  ]
}
