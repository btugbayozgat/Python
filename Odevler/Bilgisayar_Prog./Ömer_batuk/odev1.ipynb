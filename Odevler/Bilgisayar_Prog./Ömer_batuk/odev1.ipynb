{
  "nbformat": 4,
  "nbformat_minor": 0,
  "metadata": {
    "colab": {
      "provenance": []
    },
    "kernelspec": {
      "name": "python3",
      "display_name": "Python 3"
    },
    "language_info": {
      "name": "python"
    }
  },
  "cells": [
    {
      "cell_type": "code",
      "execution_count": null,
      "metadata": {
        "id": "-5YpwyYcqpbN"
      },
      "outputs": [],
      "source": [
        "# MADDE 1\n",
        "vize = int(input(\"Vize notunuzu giriniz: \"))\n",
        "final = int(input(\"Final notunuzu giriniz: \"))\n",
        "odev = int(input(\"Ödev notunuzu giriniz: \"))\n",
        "ortalama = (vize * 40 / 100) + (final * 50 /100) + (odev * 10 / 100)\n",
        "\n",
        "if 0 <= ortalama <=30:\n",
        "    print(\"Harf Notunuz: F\")\n",
        "\n",
        "if 31 <= ortalama <=35:\n",
        "    print(\"Harf Notunuz: DF\")\n",
        "\n",
        "if 36 <= ortalama <=40:\n",
        "    print(\"Harf Notunuz: DD\")\n",
        "\n",
        "if 41 <= ortalama <=50:\n",
        "    print(\"Harf Notunuz: CD\")\n",
        "\n",
        "elif 51 <= ortalama <=60:\n",
        "    print(\"Harf Notunuz: CC\")\n",
        "\n",
        "elif 61 <= ortalama <= 70:\n",
        "    print(\"Harf Notunuz: CB\")\n",
        "\n",
        "elif 71 <= ortalama <=80:\n",
        "    print(\"Harf Notunuz: BB\")\n",
        "\n",
        "elif 81 <= ortalama <=90:\n",
        "    print(\"Harf Notunuz: BA\")\n",
        "\n",
        "elif 91 <= ortalama <=100:\n",
        "    print(\"Harf Notunuz: AA\")\n",
        "\n",
        "else:\n",
        "    print(\"Not girişini hatalı yaptınız! Ortalamanız 0 ile 100 arasında bir değer olması gerekmekte.\")\n",
        "\n",
        "print(f\"Ortalamanız: {ortalama}\")"
      ]
    },
    {
      "cell_type": "code",
      "source": [
        "# MADDE 2\n",
        "\n",
        "sayi = float(input(\"Bir sayı giriniz: \"))\n",
        "\n",
        "if sayi % 5 == 0 and sayi % 7 == 0:\n",
        "  print(\"Sayı hem 5 hemde 7'ye bölünüyor.\")\n",
        "elif sayi % 7 == 0:\n",
        "  print(\"Sayı 7'ye bölünüyor.\")\n",
        "elif sayi % 5 == 0:\n",
        "  print(\"Sayı 5'e bölünüyor.\")\n",
        "else:\n",
        "  print(\"Sayı 5 veya 7'ye bölünmüyor.\")\n"
      ],
      "metadata": {
        "colab": {
          "base_uri": "https://localhost:8080/"
        },
        "id": "pCWdO0oYq0ef",
        "outputId": "0818c273-1a41-4eca-d5f4-cb1018812432"
      },
      "execution_count": 9,
      "outputs": [
        {
          "output_type": "stream",
          "name": "stdout",
          "text": [
            "Bir sayı giriniz: 41\n",
            "Sayı 5 veya 7'ye bölünmüyor.\n"
          ]
        }
      ]
    },
    {
      "cell_type": "code",
      "source": [
        "# MADDE 3\n",
        "import random\n",
        "\n",
        "tahmin = int(input(\"Tuttuğum sayıyı, tahmin etmeye çalış!\\n\"))\n",
        "sayi = random.randint(1,10)\n",
        "\n",
        "if tahmin == sayi:\n",
        "  print(\"İyi tahmin!\\n\")\n",
        "\n",
        "else:\n",
        "  print(\"Kötü tahmin!\\n\")\n",
        "\n",
        "print(f\"Tuttuğum sayı: {sayi}\\nSenin tahminin: {tahmin}\")\n"
      ],
      "metadata": {
        "id": "gTw9TntVtHPV",
        "colab": {
          "base_uri": "https://localhost:8080/"
        },
        "outputId": "85b1fa2c-a11e-4e0a-917c-1c0d36aee6a3"
      },
      "execution_count": null,
      "outputs": [
        {
          "output_type": "stream",
          "name": "stdout",
          "text": [
            "Tuttuğum sayıyı, tahmin etmeye çalış!\n",
            "7\n",
            "Kötü tahmin!\n",
            "\n",
            "Tuttuğum sayı: 8\n",
            "Senin tahminin: 7\n"
          ]
        }
      ]
    },
    {
      "cell_type": "code",
      "source": [
        "# MADDE 4\n",
        "\n",
        "kelime = input(\"Bir kelime girin: \")\n",
        "if kelime[0] == kelime[-1]:\n",
        "  print(f\"Girilen kelimenin ilk ve son harfi aynı!\")\n",
        "else:\n",
        "  print(f\"Girilen kelimenin ilk ve son harfi farklı!\")"
      ],
      "metadata": {
        "colab": {
          "base_uri": "https://localhost:8080/"
        },
        "id": "V_St6Lph8TEo",
        "outputId": "6c261973-dede-4031-f341-0962ea774b9a"
      },
      "execution_count": null,
      "outputs": [
        {
          "output_type": "stream",
          "name": "stdout",
          "text": [
            "Bir kelime girin: ayna\n",
            "Girilen kelimenin ilk ve son harfi aynı!\n"
          ]
        }
      ]
    },
    {
      "cell_type": "code",
      "source": [
        "# MADDE 5\n",
        "\n",
        "boy = float(input(\"Boyunuzu giriniz: \"))\n",
        "kilo = float(input(\"Kilonuzu giriniz: \"))\n",
        "vki = (kilo) / (boy**2)\n",
        "\n",
        "if vki >= 30:\n",
        "  print(f\"Vücut kitle indeksiniz: {vki:.1f}\\nSonuç: Obez\")\n",
        "elif 25 <= vki < 30:\n",
        "  print(f\"Vücut kitle indeksiniz: {vki:.1f}\\nSonuç: Aşırı Kilolu\")\n",
        "elif 20<= vki < 25:\n",
        "  print(f\"Vücut kitle indeksiniz: {vki:.1f}\\nSonuç: Normal\")\n",
        "elif vki < 20:\n",
        "  print(f\"Vücut kitle indeksiniz: {vki:.1f}\\nSonuç: Zayıf\")\n",
        "else:\n",
        "  print(f\"Girdiğiniz değerlerde hata bulunmaktadır!\")\n",
        "\n",
        "\n"
      ],
      "metadata": {
        "colab": {
          "base_uri": "https://localhost:8080/"
        },
        "id": "VNc9az7n8qAx",
        "outputId": "9a355963-ae0a-4d66-b93c-8c10f0fa2aae"
      },
      "execution_count": 4,
      "outputs": [
        {
          "output_type": "stream",
          "name": "stdout",
          "text": [
            "Boyunuzu giriniz: 1.82\n",
            "Kilonuzu giriniz: 89\n",
            "Vücut kitle indeksiniz: 26.9\n",
            "Sonuç: Aşırı Kilolu\n"
          ]
        }
      ]
    }
  ]
}
